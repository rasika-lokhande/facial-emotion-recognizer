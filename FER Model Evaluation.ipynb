{
 "cells": [
  {
   "cell_type": "code",
   "execution_count": 31,
   "id": "cc691c3b",
   "metadata": {},
   "outputs": [
    {
     "name": "stdout",
     "output_type": "stream",
     "text": [
      "Tensorflow version: 2.12.0\n"
     ]
    }
   ],
   "source": [
    "import numpy as np\n",
    "import tensorflow as tf\n",
    "import cv2\n",
    "from tensorflow.keras.metrics import Precision, Recall, CategoricalAccuracy\n",
    "from tensorflow.keras.models import model_from_json\n",
    "\n",
    "import matplotlib.image as mpimg\n",
    "import matplotlib.pyplot as plt\n",
    "\n",
    "print(\"Tensorflow version:\", tf.__version__)"
   ]
  },
  {
   "cell_type": "markdown",
   "id": "c790c45e",
   "metadata": {},
   "source": [
    "# Loading Model and test data"
   ]
  },
  {
   "cell_type": "code",
   "execution_count": 32,
   "id": "f5b875e8",
   "metadata": {},
   "outputs": [],
   "source": [
    "#Load preprocessed test data\n",
    "test = tf.data.Dataset.load(\"test_ds\")"
   ]
  },
  {
   "cell_type": "code",
   "execution_count": 33,
   "id": "0d7911b5",
   "metadata": {},
   "outputs": [],
   "source": [
    "#Load model\n",
    "def load_model(mod_structure_file, mod_weights_file):  \n",
    "\n",
    "    # load json and create model\n",
    "    json_file = open(mod_structure_file, 'r')\n",
    "    model_structure_json = json_file.read()\n",
    "    json_file.close()\n",
    "    model = model_from_json(model_structure_json)\n",
    "\n",
    "    # load weights into new model\n",
    "    model.load_weights(mod_weights_file)\n",
    "    print(\"Loaded model from disk\")\n",
    "    \n",
    "    return model"
   ]
  },
  {
   "cell_type": "code",
   "execution_count": 34,
   "id": "e4b213fd",
   "metadata": {},
   "outputs": [
    {
     "name": "stdout",
     "output_type": "stream",
     "text": [
      "Loaded model from disk\n"
     ]
    }
   ],
   "source": [
    "model = load_model('model_structure.json', 'model_weights.h5')"
   ]
  },
  {
   "cell_type": "markdown",
   "id": "54aa0393",
   "metadata": {},
   "source": [
    "# Model Evaluation"
   ]
  },
  {
   "cell_type": "code",
   "execution_count": 35,
   "id": "098ebf33",
   "metadata": {},
   "outputs": [
    {
     "name": "stdout",
     "output_type": "stream",
     "text": [
      "2/2 [==============================] - 0s 127ms/step\n",
      "2/2 [==============================] - 0s 191ms/step\n",
      "2/2 [==============================] - 0s 247ms/step\n",
      "2/2 [==============================] - 1s 247ms/step\n",
      "2/2 [==============================] - 1s 240ms/step\n",
      "2/2 [==============================] - 1s 237ms/step\n",
      "2/2 [==============================] - 1s 249ms/step\n",
      "2/2 [==============================] - 1s 240ms/step\n",
      "2/2 [==============================] - 0s 238ms/step\n",
      "2/2 [==============================] - 1s 255ms/step\n",
      "2/2 [==============================] - 0s 243ms/step\n",
      "2/2 [==============================] - 0s 234ms/step\n",
      "2/2 [==============================] - 0s 233ms/step\n",
      "2/2 [==============================] - 0s 228ms/step\n",
      "2/2 [==============================] - 0s 236ms/step\n",
      "2/2 [==============================] - 0s 249ms/step\n",
      "2/2 [==============================] - 1s 247ms/step\n",
      "2/2 [==============================] - 0s 236ms/step\n",
      "2/2 [==============================] - 0s 235ms/step\n",
      "2/2 [==============================] - 1s 249ms/step\n",
      "2/2 [==============================] - 0s 231ms/step\n",
      "2/2 [==============================] - 1s 261ms/step\n",
      "2/2 [==============================] - 0s 235ms/step\n",
      "2/2 [==============================] - 1s 249ms/step\n",
      "2/2 [==============================] - 1s 259ms/step\n",
      "2/2 [==============================] - 1s 235ms/step\n",
      "2/2 [==============================] - 1s 239ms/step\n",
      "2/2 [==============================] - 1s 264ms/step\n",
      "2/2 [==============================] - 1s 281ms/step\n",
      "2/2 [==============================] - 1s 236ms/step\n",
      "2/2 [==============================] - 0s 220ms/step\n",
      "2/2 [==============================] - 0s 222ms/step\n",
      "2/2 [==============================] - 0s 238ms/step\n",
      "2/2 [==============================] - 0s 218ms/step\n",
      "2/2 [==============================] - 1s 227ms/step\n",
      "2/2 [==============================] - 0s 224ms/step\n",
      "2/2 [==============================] - 0s 218ms/step\n",
      "2/2 [==============================] - 0s 222ms/step\n",
      "2/2 [==============================] - 0s 219ms/step\n",
      "2/2 [==============================] - 0s 222ms/step\n",
      "2/2 [==============================] - 0s 217ms/step\n",
      "2/2 [==============================] - 0s 244ms/step\n",
      "2/2 [==============================] - 1s 265ms/step\n",
      "2/2 [==============================] - 1s 229ms/step\n",
      "2/2 [==============================] - 0s 226ms/step\n",
      "2/2 [==============================] - 1s 261ms/step\n",
      "2/2 [==============================] - 0s 229ms/step\n",
      "2/2 [==============================] - 0s 223ms/step\n",
      "2/2 [==============================] - 0s 218ms/step\n",
      "2/2 [==============================] - 0s 222ms/step\n",
      "2/2 [==============================] - 0s 218ms/step\n",
      "2/2 [==============================] - 0s 217ms/step\n",
      "2/2 [==============================] - 1s 247ms/step\n",
      "2/2 [==============================] - 0s 227ms/step\n",
      "2/2 [==============================] - 0s 221ms/step\n",
      "2/2 [==============================] - 0s 221ms/step\n",
      "2/2 [==============================] - 0s 239ms/step\n",
      "2/2 [==============================] - 0s 231ms/step\n",
      "2/2 [==============================] - 0s 230ms/step\n",
      "2/2 [==============================] - 0s 225ms/step\n",
      "2/2 [==============================] - 0s 223ms/step\n",
      "2/2 [==============================] - 0s 238ms/step\n",
      "2/2 [==============================] - 0s 231ms/step\n",
      "2/2 [==============================] - 0s 225ms/step\n",
      "2/2 [==============================] - 0s 225ms/step\n",
      "2/2 [==============================] - 0s 229ms/step\n",
      "2/2 [==============================] - 0s 229ms/step\n",
      "2/2 [==============================] - 0s 228ms/step\n",
      "2/2 [==============================] - 1s 241ms/step\n",
      "2/2 [==============================] - 0s 224ms/step\n",
      "2/2 [==============================] - 1s 232ms/step\n",
      "2/2 [==============================] - 0s 228ms/step\n",
      "2/2 [==============================] - 0s 234ms/step\n",
      "2/2 [==============================] - 0s 221ms/step\n",
      "2/2 [==============================] - 0s 231ms/step\n",
      "2/2 [==============================] - 0s 226ms/step\n",
      "2/2 [==============================] - 1s 261ms/step\n",
      "2/2 [==============================] - 1s 247ms/step\n",
      "2/2 [==============================] - 0s 230ms/step\n",
      "2/2 [==============================] - 0s 227ms/step\n",
      "2/2 [==============================] - 0s 230ms/step\n",
      "2/2 [==============================] - 1s 335ms/step\n",
      "2/2 [==============================] - 0s 225ms/step\n",
      "2/2 [==============================] - 1s 252ms/step\n",
      "2/2 [==============================] - 1s 234ms/step\n",
      "2/2 [==============================] - 0s 250ms/step\n",
      "2/2 [==============================] - 0s 243ms/step\n",
      "2/2 [==============================] - 0s 232ms/step\n",
      "2/2 [==============================] - 0s 221ms/step\n",
      "2/2 [==============================] - 0s 235ms/step\n",
      "2/2 [==============================] - 0s 218ms/step\n",
      "2/2 [==============================] - 0s 216ms/step\n",
      "2/2 [==============================] - 0s 224ms/step\n",
      "2/2 [==============================] - 0s 225ms/step\n",
      "2/2 [==============================] - 0s 220ms/step\n",
      "2/2 [==============================] - 0s 220ms/step\n",
      "2/2 [==============================] - 0s 243ms/step\n",
      "2/2 [==============================] - 0s 222ms/step\n",
      "2/2 [==============================] - 0s 217ms/step\n",
      "2/2 [==============================] - 0s 218ms/step\n",
      "2/2 [==============================] - 0s 222ms/step\n",
      "2/2 [==============================] - 0s 222ms/step\n",
      "2/2 [==============================] - 0s 231ms/step\n",
      "2/2 [==============================] - 0s 229ms/step\n",
      "2/2 [==============================] - 0s 223ms/step\n",
      "2/2 [==============================] - 0s 239ms/step\n",
      "2/2 [==============================] - 0s 236ms/step\n",
      "2/2 [==============================] - 1s 261ms/step\n",
      "2/2 [==============================] - 1s 262ms/step\n",
      "2/2 [==============================] - 0s 226ms/step\n",
      "2/2 [==============================] - 0s 231ms/step\n",
      "2/2 [==============================] - 0s 254ms/step\n",
      "1/1 [==============================] - 0s 439ms/step\n",
      "Model evaluation complete\n"
     ]
    }
   ],
   "source": [
    "pre = Precision()\n",
    "re = Recall()\n",
    "acc = CategoricalAccuracy()\n",
    "\n",
    "for batch in test.as_numpy_iterator(): \n",
    "    X, y = batch\n",
    "    yhat = model.predict(X)\n",
    "    pre.update_state(y, yhat)\n",
    "    re.update_state(y, yhat)\n",
    "    acc.update_state(y, yhat)\n",
    "print(\"Model evaluation complete\")"
   ]
  },
  {
   "cell_type": "code",
   "execution_count": 36,
   "id": "df479bd6",
   "metadata": {},
   "outputs": [
    {
     "name": "stdout",
     "output_type": "stream",
     "text": [
      "Precision: 0.6396591663360596 \n",
      "Recall: 0.5752298831939697 \n",
      "Accuracy 0.6032320857048035\n"
     ]
    }
   ],
   "source": [
    "print(f\"Precision: {pre.result().numpy()} \\nRecall: {re.result().numpy()} \\nAccuracy {acc.result().numpy()}\")"
   ]
  },
  {
   "cell_type": "markdown",
   "id": "4d35b4d6",
   "metadata": {},
   "source": [
    "# Testing "
   ]
  },
  {
   "cell_type": "code",
   "execution_count": 37,
   "id": "e12a8ec3",
   "metadata": {},
   "outputs": [],
   "source": [
    "def predict_expression(image_file_name):\n",
    "    img = mpimg.imread(image_file_name)\n",
    "        \n",
    "    y_hat = model.predict(tf.expand_dims(img/255,0))\n",
    "    expressions = ['angry', 'disgusted', 'fearful', 'happy', 'neutral', 'sad', 'surprised']\n",
    "    \n",
    "    print (f\"\\nPredicted expression = {expressions[np.argmax(y_hat)]}\")\n",
    "    \n",
    "    plt.imshow(img, cmap = 'gray')\n"
   ]
  },
  {
   "cell_type": "code",
   "execution_count": 38,
   "id": "ea652bfa",
   "metadata": {},
   "outputs": [
    {
     "name": "stdout",
     "output_type": "stream",
     "text": [
      "1/1 [==============================] - 0s 138ms/step\n",
      "\n",
      "Predicted expression = sad\n"
     ]
    },
    {
     "data": {
      "image/png": "[encoded data removed]",
      "text/plain": [
       "<Figure size 432x288 with 1 Axes>"
      ]
     },
     "metadata": {
      "needs_background": "light"
     },
     "output_type": "display_data"
    }
   ],
   "source": [
    "predict_expression(\"test_img2.jpg\")"
   ]
  },
  {
   "cell_type": "code",
   "execution_count": null,
   "id": "e0506d8c",
   "metadata": {},
   "outputs": [],
   "source": []
  }
 ],
 "metadata": {
  "kernelspec": {
   "display_name": "Python 3 (ipykernel)",
   "language": "python",
   "name": "python3"
  },
  "language_info": {
   "codemirror_mode": {
    "name": "ipython",
    "version": 3
   },
   "file_extension": ".py",
   "mimetype": "text/x-python",
   "name": "python",
   "nbconvert_exporter": "python",
   "pygments_lexer": "ipython3",
   "version": "3.9.12"
  }
 },
 "nbformat": 4,
 "nbformat_minor": 5
}
